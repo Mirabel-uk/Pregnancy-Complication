{
 "cells": [
  {
   "cell_type": "code",
   "execution_count": 4,
   "id": "b6e9c141-e6e3-46ed-90a9-6cdcb28582e1",
   "metadata": {},
   "outputs": [],
   "source": [
    "import pandas as pd\n",
    "from sklearn.model_selection import train_test_split\n",
    "from imblearn.over_sampling import SMOTE\n",
    "from sklearn.preprocessing import StandardScaler"
   ]
  },
  {
   "cell_type": "code",
   "execution_count": 5,
   "id": "feb5863a-7cd6-4c6c-85d2-a46a006a5d03",
   "metadata": {},
   "outputs": [
    {
     "data": {
      "text/html": [
       "<div>\n",
       "<style scoped>\n",
       "    .dataframe tbody tr th:only-of-type {\n",
       "        vertical-align: middle;\n",
       "    }\n",
       "\n",
       "    .dataframe tbody tr th {\n",
       "        vertical-align: top;\n",
       "    }\n",
       "\n",
       "    .dataframe thead th {\n",
       "        text-align: right;\n",
       "    }\n",
       "</style>\n",
       "<table border=\"1\" class=\"dataframe\">\n",
       "  <thead>\n",
       "    <tr style=\"text-align: right;\">\n",
       "      <th></th>\n",
       "      <th>Age</th>\n",
       "      <th>SystolicBP</th>\n",
       "      <th>DiastolicBP</th>\n",
       "      <th>BS</th>\n",
       "      <th>BodyTemp</th>\n",
       "      <th>HeartRate</th>\n",
       "      <th>RiskLevel</th>\n",
       "    </tr>\n",
       "  </thead>\n",
       "  <tbody>\n",
       "    <tr>\n",
       "      <th>0</th>\n",
       "      <td>25</td>\n",
       "      <td>130</td>\n",
       "      <td>80</td>\n",
       "      <td>15.0</td>\n",
       "      <td>98.0</td>\n",
       "      <td>86</td>\n",
       "      <td>high risk</td>\n",
       "    </tr>\n",
       "    <tr>\n",
       "      <th>1</th>\n",
       "      <td>35</td>\n",
       "      <td>140</td>\n",
       "      <td>90</td>\n",
       "      <td>13.0</td>\n",
       "      <td>98.0</td>\n",
       "      <td>70</td>\n",
       "      <td>high risk</td>\n",
       "    </tr>\n",
       "    <tr>\n",
       "      <th>2</th>\n",
       "      <td>29</td>\n",
       "      <td>90</td>\n",
       "      <td>70</td>\n",
       "      <td>8.0</td>\n",
       "      <td>100.0</td>\n",
       "      <td>80</td>\n",
       "      <td>high risk</td>\n",
       "    </tr>\n",
       "    <tr>\n",
       "      <th>3</th>\n",
       "      <td>30</td>\n",
       "      <td>140</td>\n",
       "      <td>85</td>\n",
       "      <td>7.0</td>\n",
       "      <td>98.0</td>\n",
       "      <td>70</td>\n",
       "      <td>high risk</td>\n",
       "    </tr>\n",
       "    <tr>\n",
       "      <th>4</th>\n",
       "      <td>35</td>\n",
       "      <td>120</td>\n",
       "      <td>60</td>\n",
       "      <td>6.1</td>\n",
       "      <td>98.0</td>\n",
       "      <td>76</td>\n",
       "      <td>low risk</td>\n",
       "    </tr>\n",
       "  </tbody>\n",
       "</table>\n",
       "</div>"
      ],
      "text/plain": [
       "   Age  SystolicBP  DiastolicBP    BS  BodyTemp  HeartRate  RiskLevel\n",
       "0   25         130           80  15.0      98.0         86  high risk\n",
       "1   35         140           90  13.0      98.0         70  high risk\n",
       "2   29          90           70   8.0     100.0         80  high risk\n",
       "3   30         140           85   7.0      98.0         70  high risk\n",
       "4   35         120           60   6.1      98.0         76   low risk"
      ]
     },
     "execution_count": 5,
     "metadata": {},
     "output_type": "execute_result"
    }
   ],
   "source": [
    "# Load your dataset\n",
    "data = pd.read_csv(r\"C:\\Users\\DELL 7470\\Desktop\\PREG COMPLICATION\\Maternal Risk Prediction\\Maternal Health Risk Data Set.csv\")\n",
    "data.head()"
   ]
  },
  {
   "cell_type": "code",
   "execution_count": 6,
   "id": "ae509967-4af5-4b41-8062-c91f041e5896",
   "metadata": {},
   "outputs": [
    {
     "name": "stdout",
     "output_type": "stream",
     "text": [
      "<class 'pandas.core.frame.DataFrame'>\n",
      "RangeIndex: 1014 entries, 0 to 1013\n",
      "Data columns (total 7 columns):\n",
      " #   Column       Non-Null Count  Dtype  \n",
      "---  ------       --------------  -----  \n",
      " 0   Age          1014 non-null   int64  \n",
      " 1   SystolicBP   1014 non-null   int64  \n",
      " 2   DiastolicBP  1014 non-null   int64  \n",
      " 3   BS           1014 non-null   float64\n",
      " 4   BodyTemp     1014 non-null   float64\n",
      " 5   HeartRate    1014 non-null   int64  \n",
      " 6   RiskLevel    1014 non-null   object \n",
      "dtypes: float64(2), int64(4), object(1)\n",
      "memory usage: 55.6+ KB\n"
     ]
    }
   ],
   "source": [
    "data.info()\n"
   ]
  },
  {
   "cell_type": "code",
   "execution_count": 9,
   "id": "f5aae3dc-4fbd-4edf-a7f9-b7b778d21821",
   "metadata": {},
   "outputs": [
    {
     "name": "stdout",
     "output_type": "stream",
     "text": [
      "(1014, 7)\n"
     ]
    }
   ],
   "source": [
    "print(data.shape)"
   ]
  },
  {
   "cell_type": "code",
   "execution_count": 27,
   "id": "6d9c6bd9-f440-4e35-8fa7-a88234c61afc",
   "metadata": {},
   "outputs": [],
   "source": [
    "# Acall the target variable\n",
    "X = data.drop(columns='RiskLevel')\n",
    "y = data['RiskLevel']\n",
    "\n",
    "# Split the dataset\n",
    "X_train, X_test, y_train, y_test = train_test_split(X, y, test_size=0.2, random_state=42)\n",
    "\n",
    "# One-hot encode categorical variables\n",
    "X_train = pd.get_dummies(X_train, drop_first=True)\n",
    "X_test = pd.get_dummies(X_test, drop_first=True)\n",
    "\n",
    "# Align the train and test sets to have the same columns\n",
    "X_train, X_test = X_train.align(X_test, join='left', axis=1, fill_value=0)\n",
    "\n",
    "\n",
    "# Standardize the features\n",
    "scaler = StandardScaler()\n",
    "X_train_scaled = scaler.fit_transform(X_train)\n",
    "X_test_scaled = scaler.transform(X_test)"
   ]
  },
  {
   "cell_type": "code",
   "execution_count": 33,
   "id": "40007ad3-4da5-44ec-8ba8-9b28e8063667",
   "metadata": {},
   "outputs": [
    {
     "name": "stdout",
     "output_type": "stream",
     "text": [
      "   Age  SystolicBP  DiastolicBP    BS  BodyTemp  HeartRate       Age  \\\n",
      "0   30         120           80   9.0     101.0         76  0.015869   \n",
      "1   23         130           70   6.9      98.0         70 -0.507898   \n",
      "2   32         120           90   6.9      98.0         70  0.165517   \n",
      "3   31         120           60   6.1      98.0         76  0.090693   \n",
      "4   35         100           60  15.0      98.0         80  0.389988   \n",
      "\n",
      "   SystolicBP  DiastolicBP        BS  ...  DiastolicBP^2  DiastolicBP BS  \\\n",
      "0    0.359605     0.260182  0.068678  ...       0.067695        0.017869   \n",
      "1    0.900380    -0.465180 -0.563601  ...       0.216392        0.262176   \n",
      "2    0.359605     0.985544 -0.563601  ...       0.971297       -0.555454   \n",
      "3    0.359605    -1.190541 -0.804469  ...       1.417389        0.957754   \n",
      "4   -0.721944    -1.190541  1.875189  ...       1.417389       -2.232490   \n",
      "\n",
      "   DiastolicBP BodyTemp  DiastolicBP HeartRate      BS^2  BS BodyTemp  \\\n",
      "0              0.430011               0.050844  0.004717     0.113506   \n",
      "1              0.232752               0.247018  0.317646     0.281998   \n",
      "2             -0.493117              -0.523340  0.317646     0.281998   \n",
      "3              0.595687              -0.232653  0.647170     0.402516   \n",
      "4              0.595687              -0.809219  3.516333    -0.938250   \n",
      "\n",
      "   BS HeartRate  BodyTemp^2  BodyTemp HeartRate  HeartRate^2  \n",
      "0      0.013421    2.731513            0.322972     0.038188  \n",
      "1      0.299281    0.250350            0.265694     0.281979  \n",
      "2      0.299281    0.250350            0.265694     0.281979  \n",
      "3     -0.157207    0.250350           -0.097777     0.038188  \n",
      "4      1.274579    0.250350           -0.340091     0.462002  \n",
      "\n",
      "[5 rows x 33 columns]\n"
     ]
    }
   ],
   "source": [
    "from sklearn.preprocessing import PolynomialFeatures\n",
    "# Generate polynomial features\n",
    "poly = PolynomialFeatures(degree=2, interaction_only=False, include_bias=False)\n",
    "poly_features = poly.fit_transform(X_train_scaled)\n",
    "\n",
    "# Convert the polynomial features to a DataFrame\n",
    "poly_features_df = pd.DataFrame(poly_features, columns=poly.get_feature_names_out(X_train.columns))\n",
    "\n",
    "# Combine with the original dataset\n",
    "enhanced_data = pd.concat([X_train.reset_index(drop=True), poly_features_df], axis=1)\n",
    "\n",
    "# Print the first few rows of the enhanced dataset\n",
    "print(enhanced_data.head())"
   ]
  },
  {
   "cell_type": "code",
   "execution_count": 29,
   "id": "53b0c54e-4578-42f6-ab0a-a87c387331fe",
   "metadata": {},
   "outputs": [],
   "source": [
    "# Apply SMOTE\n",
    "smote = SMOTE(random_state=42)\n",
    "X_resampled, y_resampled = smote.fit_resample(X_train_scaled, y_train)"
   ]
  },
  {
   "cell_type": "code",
   "execution_count": 30,
   "id": "8f645aa2-1d24-4fae-832d-bd565315b2de",
   "metadata": {},
   "outputs": [],
   "source": [
    "# Convert numpy arrays to pandas DataFrames\n",
    "X_train_resampled = pd.DataFrame(X_resampled, columns=X.columns)\n",
    "y_train_resampled = pd.Series(y_resampled, name='RiskLevel')"
   ]
  },
  {
   "cell_type": "code",
   "execution_count": 31,
   "id": "9332cd05-85e2-485b-9020-f89bf7d1988e",
   "metadata": {},
   "outputs": [],
   "source": [
    "# Combine resampled training data with original test data\n",
    "X_combined = pd.concat([X_train_resampled, pd.DataFrame(X_test_scaled, columns=X.columns)], ignore_index=True)\n",
    "y_combined = pd.concat([y_train_resampled, y_test.reset_index(drop=True)], ignore_index=True)\n",
    "\n",
    "combined_dataset = pd.concat([X_combined, y_combined], axis=1)"
   ]
  },
  {
   "cell_type": "code",
   "execution_count": 20,
   "id": "25b35804-bd28-4550-80d7-49c7f01c2dfc",
   "metadata": {},
   "outputs": [
    {
     "name": "stdout",
     "output_type": "stream",
     "text": [
      "Original dataset shape: (1014, 6)\n",
      "Resampled dataset shape: (978, 6)\n",
      "Combined dataset shape: (1181, 6), (1181,)\n"
     ]
    }
   ],
   "source": [
    "# Check the shape of the combined dataset\n",
    "print(f'Original dataset shape: {X.shape}')\n",
    "print(f'Resampled dataset shape: {X_resampled.shape}')\n",
    "print(f'Combined dataset shape: {X_combined.shape}, {y_combined.shape}')"
   ]
  },
  {
   "cell_type": "code",
   "execution_count": 32,
   "id": "d7dd49e4-3b88-489b-ba9c-4df879b072e7",
   "metadata": {},
   "outputs": [
    {
     "name": "stdout",
     "output_type": "stream",
     "text": [
      "        Age  SystolicBP  DiastolicBP        BS  BodyTemp  HeartRate  RiskLevel\n",
      "0  0.015869    0.359605     0.260182  0.068678  1.652729   0.195418   mid risk\n",
      "1 -0.507898    0.900380    -0.465180 -0.563601 -0.500350  -0.531017   mid risk\n",
      "2  0.165517    0.359605     0.985544 -0.563601 -0.500350  -0.531017   mid risk\n",
      "3  0.090693    0.359605    -1.190541 -0.804469 -0.500350   0.195418   mid risk\n",
      "4  0.389988   -0.721944    -1.190541  1.875189 -0.500350   0.679707  high risk\n"
     ]
    }
   ],
   "source": [
    "print(combined_dataset.head())"
   ]
  },
  {
   "cell_type": "code",
   "execution_count": 22,
   "id": "b2c38091-06f7-4b6a-82cf-8617b26b1c91",
   "metadata": {},
   "outputs": [
    {
     "name": "stdout",
     "output_type": "stream",
     "text": [
      "(1181, 7)\n"
     ]
    }
   ],
   "source": [
    "print(combined_dataset.shape)"
   ]
  },
  {
   "cell_type": "code",
   "execution_count": 17,
   "id": "7becb2a1-9ad8-4c5d-b0f4-9a6fa9dfd9c3",
   "metadata": {},
   "outputs": [
    {
     "name": "stdout",
     "output_type": "stream",
     "text": [
      "        Age  SystolicBP  DiastolicBP        BS  BodyTemp  HeartRate\n",
      "0  0.015869    0.359605     0.260182  0.068678  1.652729   0.195418\n",
      "1 -0.507898    0.900380    -0.465180 -0.563601 -0.500350  -0.531017\n",
      "2  0.165517    0.359605     0.985544 -0.563601 -0.500350  -0.531017\n",
      "3  0.090693    0.359605    -1.190541 -0.804469 -0.500350   0.195418\n",
      "4  0.389988   -0.721944    -1.190541  1.875189 -0.500350   0.679707\n",
      "0     mid risk\n",
      "1     mid risk\n",
      "2     mid risk\n",
      "3     mid risk\n",
      "4    high risk\n",
      "Name: RiskLevel, dtype: object\n"
     ]
    }
   ],
   "source": [
    "print(X_combined.head())\n",
    "print(y_combined.head())"
   ]
  },
  {
   "cell_type": "code",
   "execution_count": 23,
   "id": "9ac2be80-b66a-4812-8925-9f3a419f2212",
   "metadata": {},
   "outputs": [
    {
     "name": "stdout",
     "output_type": "stream",
     "text": [
      "<class 'pandas.core.frame.DataFrame'>\n",
      "RangeIndex: 1181 entries, 0 to 1180\n",
      "Data columns (total 7 columns):\n",
      " #   Column       Non-Null Count  Dtype  \n",
      "---  ------       --------------  -----  \n",
      " 0   Age          1181 non-null   float64\n",
      " 1   SystolicBP   1181 non-null   float64\n",
      " 2   DiastolicBP  1181 non-null   float64\n",
      " 3   BS           1181 non-null   float64\n",
      " 4   BodyTemp     1181 non-null   float64\n",
      " 5   HeartRate    1181 non-null   float64\n",
      " 6   RiskLevel    1181 non-null   object \n",
      "dtypes: float64(6), object(1)\n",
      "memory usage: 64.7+ KB\n"
     ]
    }
   ],
   "source": [
    "combined_dataset.info()"
   ]
  },
  {
   "cell_type": "code",
   "execution_count": 24,
   "id": "cfecca0d-2c16-4753-a096-3b6415ef0064",
   "metadata": {},
   "outputs": [],
   "source": [
    "import pandas as pd\n",
    "import numpy as np\n",
    "from sklearn.preprocessing import PolynomialFeatures"
   ]
  },
  {
   "cell_type": "code",
   "execution_count": 25,
   "id": "9ef8f846-2416-4451-bcfe-b39b4daec380",
   "metadata": {},
   "outputs": [
    {
     "data": {
      "text/html": [
       "<div>\n",
       "<style scoped>\n",
       "    .dataframe tbody tr th:only-of-type {\n",
       "        vertical-align: middle;\n",
       "    }\n",
       "\n",
       "    .dataframe tbody tr th {\n",
       "        vertical-align: top;\n",
       "    }\n",
       "\n",
       "    .dataframe thead th {\n",
       "        text-align: right;\n",
       "    }\n",
       "</style>\n",
       "<table border=\"1\" class=\"dataframe\">\n",
       "  <thead>\n",
       "    <tr style=\"text-align: right;\">\n",
       "      <th></th>\n",
       "      <th>Age</th>\n",
       "      <th>SystolicBP</th>\n",
       "      <th>DiastolicBP</th>\n",
       "      <th>BS</th>\n",
       "      <th>BodyTemp</th>\n",
       "      <th>HeartRate</th>\n",
       "      <th>RiskLevel</th>\n",
       "    </tr>\n",
       "  </thead>\n",
       "  <tbody>\n",
       "    <tr>\n",
       "      <th>0</th>\n",
       "      <td>25</td>\n",
       "      <td>130</td>\n",
       "      <td>80</td>\n",
       "      <td>15.0</td>\n",
       "      <td>98.0</td>\n",
       "      <td>86</td>\n",
       "      <td>high risk</td>\n",
       "    </tr>\n",
       "    <tr>\n",
       "      <th>1</th>\n",
       "      <td>35</td>\n",
       "      <td>140</td>\n",
       "      <td>90</td>\n",
       "      <td>13.0</td>\n",
       "      <td>98.0</td>\n",
       "      <td>70</td>\n",
       "      <td>high risk</td>\n",
       "    </tr>\n",
       "    <tr>\n",
       "      <th>2</th>\n",
       "      <td>29</td>\n",
       "      <td>90</td>\n",
       "      <td>70</td>\n",
       "      <td>8.0</td>\n",
       "      <td>100.0</td>\n",
       "      <td>80</td>\n",
       "      <td>high risk</td>\n",
       "    </tr>\n",
       "    <tr>\n",
       "      <th>3</th>\n",
       "      <td>30</td>\n",
       "      <td>140</td>\n",
       "      <td>85</td>\n",
       "      <td>7.0</td>\n",
       "      <td>98.0</td>\n",
       "      <td>70</td>\n",
       "      <td>high risk</td>\n",
       "    </tr>\n",
       "    <tr>\n",
       "      <th>4</th>\n",
       "      <td>35</td>\n",
       "      <td>120</td>\n",
       "      <td>60</td>\n",
       "      <td>6.1</td>\n",
       "      <td>98.0</td>\n",
       "      <td>76</td>\n",
       "      <td>low risk</td>\n",
       "    </tr>\n",
       "  </tbody>\n",
       "</table>\n",
       "</div>"
      ],
      "text/plain": [
       "   Age  SystolicBP  DiastolicBP    BS  BodyTemp  HeartRate  RiskLevel\n",
       "0   25         130           80  15.0      98.0         86  high risk\n",
       "1   35         140           90  13.0      98.0         70  high risk\n",
       "2   29          90           70   8.0     100.0         80  high risk\n",
       "3   30         140           85   7.0      98.0         70  high risk\n",
       "4   35         120           60   6.1      98.0         76   low risk"
      ]
     },
     "execution_count": 25,
     "metadata": {},
     "output_type": "execute_result"
    }
   ],
   "source": [
    "# Load your dataset\n",
    "data = pd.read_csv(r\"C:\\Users\\DELL 7470\\Desktop\\PREG COMPLICATION\\Maternal Risk Prediction\\Maternal Health Risk Data Set.csv\")\n",
    "\n",
    "data.head()"
   ]
  },
  {
   "cell_type": "code",
   "execution_count": null,
   "id": "9dfd38ef-795d-4a87-ab54-bda43bb18e14",
   "metadata": {},
   "outputs": [],
   "source": []
  }
 ],
 "metadata": {
  "kernelspec": {
   "display_name": "Python 3 (ipykernel)",
   "language": "python",
   "name": "python3"
  },
  "language_info": {
   "codemirror_mode": {
    "name": "ipython",
    "version": 3
   },
   "file_extension": ".py",
   "mimetype": "text/x-python",
   "name": "python",
   "nbconvert_exporter": "python",
   "pygments_lexer": "ipython3",
   "version": "3.12.3"
  }
 },
 "nbformat": 4,
 "nbformat_minor": 5
}
